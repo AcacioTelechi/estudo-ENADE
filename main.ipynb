{
 "cells": [
  {
   "cell_type": "code",
   "execution_count": 1,
   "metadata": {},
   "outputs": [],
   "source": [
    "import pandas as pd\n",
    "import numpy as np\n",
    "import matplotlib.pyplot as plt"
   ]
  },
  {
   "cell_type": "markdown",
   "metadata": {},
   "source": [
    "## Preparar bases de dados"
   ]
  },
  {
   "cell_type": "code",
   "execution_count": 117,
   "metadata": {},
   "outputs": [],
   "source": [
    "base = pd.read_table(r'microdados_enade_2018.txt', sep=';', encoding='latin-1', decimal=',')"
   ]
  },
  {
   "cell_type": "code",
   "execution_count": 248,
   "metadata": {},
   "outputs": [],
   "source": [
    "# filtrar variáveis necessárias para análise\n",
    "df = base[['CO_IES', 'CO_CATEGAD', 'CO_CURSO', 'CO_GRUPO', 'CO_MODALIDADE', 'CO_UF_CURSO', 'CO_TURNO_GRADUACAO', 'NT_GER', 'NT_FG', 'NT_CE']]\n",
    "\n",
    "# base dos cursos de economia\n",
    "df_economia = df[df['CO_GRUPO'] == 13].reset_index().drop(columns=['CO_GRUPO'])\n",
    "\n",
    "# base por natureza da entidade\n",
    "publicas = [93, 115, 116, 10001, 10002, 10003]\n",
    "\n",
    "df_economia['natureza_entidade'] = df_economia['CO_CATEGAD'].apply(lambda x: \"Pública\" if x in publicas else \"Privada\")\n",
    "\n",
    "df_economia_publicas = df_economia[df_economia['natureza_entidade'] == \"Pública\"]\n",
    "df_economia_privadas = df_economia[df_economia['natureza_entidade'] == \"Privada\"]\n",
    "\n",
    "# base por turno\n",
    "df_economia['turno'] = df_economia['CO_TURNO_GRADUACAO'].apply(lambda x: \"Matutino\" if x == 1 else \"Vespertino\" if x == 2 else \"Integral\" if x == 3 else \"Noturno\")\n",
    "\n",
    "# UFPR\n",
    "df_economia_ufpr = df_economia[df_economia['CO_IES'] == 571]"
   ]
  },
  {
   "cell_type": "markdown",
   "metadata": {},
   "source": [
    "## Primeiras informações"
   ]
  },
  {
   "cell_type": "code",
   "execution_count": 160,
   "metadata": {},
   "outputs": [
    {
     "name": "stdout",
     "output_type": "stream",
     "text": [
      "Total de alunos: 548127\n",
      "Total de IES: 1762\n",
      "Total de IES com economia: 160\n",
      "Total de cursos de economia: 195\n",
      "Total de cursos de economia públicos: 100\n",
      "Total de cursos de economia privados: 95\n",
      "Total de cursos de economia presenciais: 187\n",
      "Total de cursos de economia distância: 8\n",
      "Total de cursos de economia integral: 37\n",
      "Total de cursos de economia matutino: 43\n",
      "Total de cursos de economia vespertino: 8\n",
      "Total de cursos de economia noturno: 164\n"
     ]
    }
   ],
   "source": [
    "tot_alunos = len(base)\n",
    "\n",
    "tot_ies = len(base['CO_IES'].unique())\n",
    "\n",
    "tot_ies_economia = len(df_economia['CO_IES'].unique())\n",
    "\n",
    "tot_cursos_economia = len(df_economia['CO_CURSO'].unique())\n",
    "\n",
    "tot_cursos_economia_publicos = len(df_economia_publicas['CO_CURSO'].unique())\n",
    "tot_cursos_economia_privados = tot_cursos_economia - tot_cursos_economia_publicos\n",
    "\n",
    "tot_cursos_economia_presenciais = len(df_economia[df_economia['CO_MODALIDADE'] == 1]['CO_CURSO'].unique())\n",
    "tot_cursos_economia_distancia = tot_cursos_economia - tot_cursos_economia_presenciais\n",
    "\n",
    "tot_cursos_economia_integral = len(df_economia[df_economia['turno'] == \"Integral\"]['CO_CURSO'].unique())\n",
    "tot_cursos_economia_matutino = len(df_economia[df_economia['turno'] == \"Matutino\"]['CO_CURSO'].unique())\n",
    "tot_cursos_economia_vespertino = len(df_economia[df_economia['turno'] == \"Vespertino\"]['CO_CURSO'].unique())\n",
    "tot_cursos_economia_noturno = len(df_economia[df_economia['turno'] == \"Noturno\"]['CO_CURSO'].unique())\n",
    "\n",
    "print(\"Total de alunos:\", tot_alunos)\n",
    "print(\"Total de IES:\", tot_ies)\n",
    "print(\"Total de IES com economia:\", tot_ies_economia)\n",
    "print(\"Total de cursos de economia:\", tot_cursos_economia)\n",
    "print(\"Total de cursos de economia públicos:\", tot_cursos_economia_publicos)\n",
    "print(\"Total de cursos de economia privados:\", tot_cursos_economia_privados)\n",
    "print(\"Total de cursos de economia presenciais:\", tot_cursos_economia_presenciais)\n",
    "print(\"Total de cursos de economia distância:\", tot_cursos_economia_distancia)\n",
    "print(\"Total de cursos de economia integral:\", tot_cursos_economia_integral)\n",
    "print(\"Total de cursos de economia matutino:\", tot_cursos_economia_matutino)\n",
    "print(\"Total de cursos de economia vespertino:\", tot_cursos_economia_vespertino)\n",
    "print(\"Total de cursos de economia noturno:\", tot_cursos_economia_noturno)"
   ]
  },
  {
   "cell_type": "markdown",
   "metadata": {},
   "source": [
    "# Nota geral dos cursos de conomia"
   ]
  },
  {
   "cell_type": "code",
   "execution_count": 233,
   "metadata": {},
   "outputs": [
    {
     "data": {
      "image/png": "[encoded data removed]",
      "text/plain": [
       "<Figure size 432x288 with 1 Axes>"
      ]
     },
     "metadata": {
      "needs_background": "light"
     },
     "output_type": "display_data"
    }
   ],
   "source": [
    "x = df_economia['NT_GER'].dropna()\n",
    "\n",
    "mu = x.mean()\n",
    "sigma = x.std()\n",
    "num_bins = 20\n",
    "\n",
    "fig, ax = plt.subplots()\n",
    "\n",
    "# the histogram of the data\n",
    "n, bins, patches = ax.hist(x, num_bins, density=True, \n",
    "    color='blue', \n",
    "    # edgecolor='black', \n",
    "    # linewidth=1, \n",
    "    alpha=0.5,)\n",
    "\n",
    "# add a 'best fit' line\n",
    "y = ((1 / (np.sqrt(2 * np.pi) * sigma)) *\n",
    "     np.exp(-0.5 * (1 / sigma * (bins - mu))**2))\n",
    "\n",
    "ax.plot(bins, y, '--')\n",
    "ax.set_xlabel('Smarts')\n",
    "ax.set_ylabel('Probability density')\n",
    "\n",
    "\n",
    "media = round(x.mean(), 1)\n",
    "mediana = round(x.median(), 1)\n",
    "std = round(x.std(), 1)\n"
   ]
  },
  {
   "cell_type": "markdown",
   "metadata": {},
   "source": [
    "## Ensino público vs. privado"
   ]
  },
  {
   "cell_type": "code",
   "execution_count": 302,
   "metadata": {},
   "outputs": [
    {
     "data": {
      "image/png": "[encoded data removed]",
      "text/plain": [
       "<Figure size 720x576 with 1 Axes>"
      ]
     },
     "metadata": {
      "needs_background": "light"
     },
     "output_type": "display_data"
    },
    {
     "data": {
      "text/html": [
       "<div>\n",
       "<style scoped>\n",
       "    .dataframe tbody tr th:only-of-type {\n",
       "        vertical-align: middle;\n",
       "    }\n",
       "\n",
       "    .dataframe tbody tr th {\n",
       "        vertical-align: top;\n",
       "    }\n",
       "\n",
       "    .dataframe thead tr th {\n",
       "        text-align: left;\n",
       "    }\n",
       "</style>\n",
       "<table border=\"1\" class=\"dataframe\">\n",
       "  <thead>\n",
       "    <tr>\n",
       "      <th></th>\n",
       "      <th>Pública</th>\n",
       "      <th>Privada</th>\n",
       "    </tr>\n",
       "    <tr>\n",
       "      <th></th>\n",
       "      <th>0</th>\n",
       "      <th>0</th>\n",
       "    </tr>\n",
       "  </thead>\n",
       "  <tbody>\n",
       "    <tr>\n",
       "      <th>count</th>\n",
       "      <td>5206.000000</td>\n",
       "      <td>2867.000000</td>\n",
       "    </tr>\n",
       "    <tr>\n",
       "      <th>mean</th>\n",
       "      <td>38.356992</td>\n",
       "      <td>38.470841</td>\n",
       "    </tr>\n",
       "    <tr>\n",
       "      <th>std</th>\n",
       "      <td>13.073115</td>\n",
       "      <td>13.256307</td>\n",
       "    </tr>\n",
       "    <tr>\n",
       "      <th>min</th>\n",
       "      <td>0.000000</td>\n",
       "      <td>0.000000</td>\n",
       "    </tr>\n",
       "    <tr>\n",
       "      <th>25%</th>\n",
       "      <td>28.800000</td>\n",
       "      <td>29.200000</td>\n",
       "    </tr>\n",
       "    <tr>\n",
       "      <th>50%</th>\n",
       "      <td>37.200000</td>\n",
       "      <td>37.100000</td>\n",
       "    </tr>\n",
       "    <tr>\n",
       "      <th>75%</th>\n",
       "      <td>47.000000</td>\n",
       "      <td>47.100000</td>\n",
       "    </tr>\n",
       "    <tr>\n",
       "      <th>max</th>\n",
       "      <td>90.200000</td>\n",
       "      <td>83.900000</td>\n",
       "    </tr>\n",
       "    <tr>\n",
       "      <th>median</th>\n",
       "      <td>37.200000</td>\n",
       "      <td>37.100000</td>\n",
       "    </tr>\n",
       "  </tbody>\n",
       "</table>\n",
       "</div>"
      ],
      "text/plain": [
       "            Pública      Privada\n",
       "                  0            0\n",
       "count   5206.000000  2867.000000\n",
       "mean      38.356992    38.470841\n",
       "std       13.073115    13.256307\n",
       "min        0.000000     0.000000\n",
       "25%       28.800000    29.200000\n",
       "50%       37.200000    37.100000\n",
       "75%       47.000000    47.100000\n",
       "max       90.200000    83.900000\n",
       "median    37.200000    37.100000"
      ]
     },
     "execution_count": 302,
     "metadata": {},
     "output_type": "execute_result"
    }
   ],
   "source": [
    "x1 = df_economia_publicas['NT_GER']\n",
    "x2 = df_economia_privadas['NT_GER']\n",
    "\n",
    "fig, ax = plt.subplots(sharex=True, sharey=True)\n",
    "ax1 = ax.hist(x1, num_bins, color='blue', alpha=0.5, label='Pública', density=True)\n",
    "ax2 = ax.hist(x2, num_bins, color='red', alpha=0.5, label='Privada', density=True)\n",
    "\n",
    "fig.set_size_inches(10, 8)\n",
    "\n",
    "plt.show()\n",
    "\n",
    "x1_desc = pd.concat([x1.describe(), pd.DataFrame.from_dict({\"median\" : x1.median()}, orient='index')])\n",
    "x2_desc = pd.concat([x2.describe(), pd.DataFrame.from_dict({\"median\" : x2.median()}, orient='index')])\n",
    "\n",
    "desc = pd.concat([x1_desc, x2_desc], axis=1, keys=['Pública', 'Privada'])\n",
    "\n",
    "desc\n",
    "\n"
   ]
  },
  {
   "cell_type": "markdown",
   "metadata": {},
   "source": [
    "# Economia na UFPR"
   ]
  },
  {
   "cell_type": "code",
   "execution_count": 300,
   "metadata": {},
   "outputs": [
    {
     "data": {
      "image/png": "[encoded data removed]",
      "text/plain": [
       "<Figure size 720x576 with 1 Axes>"
      ]
     },
     "metadata": {
      "needs_background": "light"
     },
     "output_type": "display_data"
    },
    {
     "data": {
      "text/html": [
       "<div>\n",
       "<style scoped>\n",
       "    .dataframe tbody tr th:only-of-type {\n",
       "        vertical-align: middle;\n",
       "    }\n",
       "\n",
       "    .dataframe tbody tr th {\n",
       "        vertical-align: top;\n",
       "    }\n",
       "\n",
       "    .dataframe thead tr th {\n",
       "        text-align: left;\n",
       "    }\n",
       "</style>\n",
       "<table border=\"1\" class=\"dataframe\">\n",
       "  <thead>\n",
       "    <tr>\n",
       "      <th></th>\n",
       "      <th>UFPR</th>\n",
       "      <th>Demais</th>\n",
       "    </tr>\n",
       "    <tr>\n",
       "      <th></th>\n",
       "      <th>0</th>\n",
       "      <th>0</th>\n",
       "    </tr>\n",
       "  </thead>\n",
       "  <tbody>\n",
       "    <tr>\n",
       "      <th>count</th>\n",
       "      <td>97.000000</td>\n",
       "      <td>7976.000000</td>\n",
       "    </tr>\n",
       "    <tr>\n",
       "      <th>mean</th>\n",
       "      <td>38.806186</td>\n",
       "      <td>38.392452</td>\n",
       "    </tr>\n",
       "    <tr>\n",
       "      <th>std</th>\n",
       "      <td>13.186347</td>\n",
       "      <td>13.137918</td>\n",
       "    </tr>\n",
       "    <tr>\n",
       "      <th>min</th>\n",
       "      <td>0.000000</td>\n",
       "      <td>0.000000</td>\n",
       "    </tr>\n",
       "    <tr>\n",
       "      <th>25%</th>\n",
       "      <td>30.900000</td>\n",
       "      <td>28.900000</td>\n",
       "    </tr>\n",
       "    <tr>\n",
       "      <th>50%</th>\n",
       "      <td>38.800000</td>\n",
       "      <td>37.100000</td>\n",
       "    </tr>\n",
       "    <tr>\n",
       "      <th>75%</th>\n",
       "      <td>49.500000</td>\n",
       "      <td>47.000000</td>\n",
       "    </tr>\n",
       "    <tr>\n",
       "      <th>max</th>\n",
       "      <td>72.800000</td>\n",
       "      <td>90.200000</td>\n",
       "    </tr>\n",
       "    <tr>\n",
       "      <th>median</th>\n",
       "      <td>38.800000</td>\n",
       "      <td>37.100000</td>\n",
       "    </tr>\n",
       "  </tbody>\n",
       "</table>\n",
       "</div>"
      ],
      "text/plain": [
       "             UFPR       Demais\n",
       "                0            0\n",
       "count   97.000000  7976.000000\n",
       "mean    38.806186    38.392452\n",
       "std     13.186347    13.137918\n",
       "min      0.000000     0.000000\n",
       "25%     30.900000    28.900000\n",
       "50%     38.800000    37.100000\n",
       "75%     49.500000    47.000000\n",
       "max     72.800000    90.200000\n",
       "median  38.800000    37.100000"
      ]
     },
     "execution_count": 300,
     "metadata": {},
     "output_type": "execute_result"
    }
   ],
   "source": [
    "x1 = df_economia_ufpr['NT_GER']\n",
    "x2 = df_economia[df_economia['CO_IES'] != 571]['NT_GER']\n",
    "\n",
    "num_bins = 10\n",
    "\n",
    "fig, ax = plt.subplots(sharex=True)\n",
    "ax1 = ax.hist(x1, num_bins, color='blue', alpha=0.5, label='UFPR', density=True)\n",
    "ax2 = ax.hist(x2, num_bins, color='red', alpha=0.5, label='Demais', density=True)\n",
    "\n",
    "fig.legend()\n",
    "\n",
    "fig.set_size_inches(10, 8)\n",
    "\n",
    "plt.show()\n",
    "\n",
    "x1_desc = pd.concat([x1.describe(), pd.DataFrame.from_dict({\"median\" : x1.median()}, orient='index')])\n",
    "x2_desc = pd.concat([x2.describe(), pd.DataFrame.from_dict({\"median\" : x2.median()}, orient='index')])\n",
    "\n",
    "desc = pd.concat([x1_desc, x2_desc], axis=1, keys=['UFPR', 'Demais'])\n",
    "desc"
   ]
  }
 ],
 "metadata": {
  "interpreter": {
   "hash": "bcd025add48d6f92f9206bd8c5b88ccdf5d0ef087aa12219ba8be7cbfc8731f9"
  },
  "kernelspec": {
   "display_name": "Python 3.8.5 64-bit ('base': conda)",
   "language": "python",
   "name": "python3"
  },
  "language_info": {
   "codemirror_mode": {
    "name": "ipython",
    "version": 3
   },
   "file_extension": ".py",
   "mimetype": "text/x-python",
   "name": "python",
   "nbconvert_exporter": "python",
   "pygments_lexer": "ipython3",
   "version": "3.8.5"
  },
  "orig_nbformat": 4
 },
 "nbformat": 4,
 "nbformat_minor": 2
}
